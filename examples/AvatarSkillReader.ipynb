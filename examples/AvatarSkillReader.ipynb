{
 "cells": [
  {
   "cell_type": "code",
   "execution_count": 2,
   "metadata": {},
   "outputs": [
    {
     "data": {
      "text/plain": [
       "[{'SkillName': '黑渊的棘刺',\n",
       "  'SkillDesc': '对指定敌方单体造成等同于罗刹100%攻击力的虚数属性伤害。',\n",
       "  'SkillTag': '单攻',\n",
       "  'SPBase': 19.999999686134988,\n",
       "  'SkillTypeDesc': '普攻'},\n",
       " {'SkillName': '白花的祈望',\n",
       "  'SkillDesc': '施放战技后立即为指定我方单体回复等同于罗刹60%攻击力+800的生命值，并使罗刹获得1层【白花之刻】。\\\\n当我方任意单体当前生命值百分比小于等于50%时，罗刹会立即对其施放1次战技，此次施放不消耗战技点。该效果在罗刹2次行动后满足触发条件时可再次触发。',\n",
       "  'SkillTag': '回复',\n",
       "  'SPBase': 29.999999529202483,\n",
       "  'SkillTypeDesc': '战技'},\n",
       " {'SkillName': '归葬的遂愿',\n",
       "  'SkillDesc': '解除敌方目标1个增益效果，并对敌方全体造成等同于罗刹160%攻击力的虚数属性伤害，同时使罗刹获得1层【白花之刻】。',\n",
       "  'SkillTag': '群攻',\n",
       "  'SPBase': 4.999999921533747,\n",
       "  'SkillTypeDesc': '终结技'},\n",
       " {'SkillName': '生息的轮转',\n",
       "  'SkillDesc': '当【白花之刻】达到2层时，罗刹会消耗全部【白花之刻】对敌方展开结界。\\\\n处于结界中的任意敌方目标受到攻击后，施放攻击的我方目标立即回复等同于罗刹#2[f1]%攻击力+280的生命值。\\\\n结界效果持续2回合。',\n",
       "  'SkillTag': '回复',\n",
       "  'SkillTypeDesc': '天赋'},\n",
       " {'SkillName': '愚者的悲悯',\n",
       "  'SkillDesc': '使用秘技后，下一次战斗开始时立即触发天赋。',\n",
       "  'SkillTag': '回复',\n",
       "  'SkillTypeDesc': '秘技'}]"
      ]
     },
     "metadata": {},
     "output_type": "display_data"
    }
   ],
   "source": [
    "import os\n",
    "import sys\n",
    "sys.path.append(os.path.abspath('..'))\n",
    "from src.starraildatareader import create_star_rail_data\n",
    "\n",
    "path_to_StarRailData = os.path.abspath('../StarRailData/')\n",
    "\n",
    "avatarNameOrKey = '罗刹'\n",
    "# selectKeys = {\"SkillID\", \"SkillName\", \"SkillTag\", \"SkillTypeDesc\", \"Level\", \"MaxLevel\", \"SkillDesc\", \"SimpleSkillDesc\", \"RatedSkillTreeID\",\\\n",
    "#       \"RatedRankID\", \"ExtraEffectIDList\", \"SimpleExtraEffectIDList\", \"SPBase\", \"ParamList\", \"SimpleParamList\", \"StanceDamageType\",\\\n",
    "#       \"AttackType\", \"SkillEffect\", \"SkillComboValueDelta\"}\n",
    "# selectKeys = {\"SkillName\", \"SkillTag\", \"SkillTypeDesc\", \"Level\", \"MaxLevel\", \"SkillDesc\", \"SPBase\"}\n",
    "selectKeys = {\"SkillName\", \"SkillTag\", \"SkillTypeDesc\", \"SkillDesc\", \"SPBase\"}\n",
    "\n",
    "starRailData = create_star_rail_data(path_to_StarRailData)\n",
    "display(starRailData.getAvatarSkillList(avatarNameOrKey, levels=[6,10,10,10], selectKeys=selectKeys))\n",
    "del avatarNameOrKey, selectKeys"
   ]
  },
  {
   "cell_type": "code",
   "execution_count": null,
   "metadata": {},
   "outputs": [],
   "source": [
    "def get_stable_hash(s: str) -> int:\n",
    "    hash1 = 5381\n",
    "    hash2 = hash1\n",
    "\n",
    "    for i in range(0, len(s), 2):\n",
    "        ch1 = ord(s[i])\n",
    "        hash1 = ((hash1 << 5) + hash1) ^ ch1\n",
    "        if i == len(s) - 1 or s[i+1] == '\\0':\n",
    "            break\n",
    "        ch2 = ord(s[i+1])\n",
    "        hash2 = ((hash2 << 5) + hash2) ^ ch2\n",
    "\n",
    "    return hash1 + (hash2 * 1566083941)"
   ]
  },
  {
   "cell_type": "code",
   "execution_count": 3,
   "metadata": {},
   "outputs": [],
   "source": [
    "answer = [\n",
    "    {\n",
    "        \"SkillTag\": \"单攻\",\n",
    "        \"SkillName\": \"极寒的弓矢\",\n",
    "        \"SPBase\": 19.999999686134988,\n",
    "        \"SkillTypeDesc\": \"普攻\",\n",
    "        \"SkillDesc\": \"对指定敌方单体造成等同于三月七100%攻击力的冰属性伤害。\",\n",
    "    },\n",
    "    {\n",
    "        \"SkillTag\": \"防御\",\n",
    "        \"SkillName\": \"可爱即是正义\",\n",
    "        \"SPBase\": 29.999999529202483,\n",
    "        \"SkillTypeDesc\": \"战技\",\n",
    "        \"SkillDesc\": \"为指定我方单体提供能够抵消等同于三月七57%防御力+760伤害的护盾，持续3回合。\\\\n若该目标当前生命值百分比大于等于30%，被敌方攻击的概率大幅提高。\",\n",
    "    },\n",
    "    {\n",
    "        \"SkillTag\": \"群攻\",\n",
    "        \"SkillName\": \"冰刻箭雨之时\",\n",
    "        \"SPBase\": 4.999999921533747,\n",
    "        \"SkillTypeDesc\": \"终结技\",\n",
    "        \"SkillDesc\": \"对敌方全体造成等同于三月七150%攻击力的冰属性伤害。受到攻击的敌方目标有50%基础概率陷入冻结状态，持续1回合。\\\\n冻结状态下，敌方目标不能行动同时每回合开始时受到等同于三月七60%攻击力的冰属性附加伤害。\",\n",
    "    },\n",
    "    {\n",
    "        \"SkillTag\": \"单攻\",\n",
    "        \"SkillName\": \"少女的特权\",\n",
    "        \"SPBase\": 9.999999843067494,\n",
    "        \"SkillTypeDesc\": \"天赋\",\n",
    "        \"SkillDesc\": \"当持有护盾的我方目标受到敌方目标攻击后，三月七立即向攻击者发起反击，对其造成等同于三月七100%攻击力的冰属性伤害，该效果每回合可触发2次。\",\n",
    "    },\n",
    "    {\n",
    "        \"SkillName\": \"冻人的瞬间\",\n",
    "        \"SkillTypeDesc\": \"秘技\",\n",
    "        \"SkillDesc\": \"立即攻击敌人，进入战斗后有100%的基础概率使随机敌方单体陷入冻结状态，持续1回合。\\\\n冻结状态下，敌方目标不能行动同时每回合开始时受到等同于三月七50%攻击力的冰属性附加伤害。\",\n",
    "    },\n",
    "]\n",
    "\n",
    "# selectKeys = {\"SkillID\", \"SkillName\", \"SkillTag\", \"SkillTypeDesc\", \"Level\", \"MaxLevel\", \"SkillDesc\", \"SimpleSkillDesc\", \"RatedSkillTreeID\",\\\n",
    "#       \"RatedRankID\", \"ExtraEffectIDList\", \"SimpleExtraEffectIDList\", \"SPBase\", \"ParamList\", \"SimpleParamList\", \"StanceDamageType\",\\\n",
    "#       \"AttackType\", \"SkillEffect\", \"SkillComboValueDelta\"}\n",
    "# selectKeys = {\"SkillName\", \"SkillTag\", \"SkillTypeDesc\", \"Level\", \"MaxLevel\", \"SkillDesc\", \"SPBase\"}\n",
    "selectKeys = {\"SkillName\", \"SkillTag\", \"SkillTypeDesc\", \"SkillDesc\", \"SPBase\"}\n",
    "starRailData = create_star_rail_data(path_to_StarRailData)"
   ]
  },
  {
   "cell_type": "code",
   "execution_count": 4,
   "metadata": {},
   "outputs": [],
   "source": [
    "def test_getAvatarSkillListByName():\n",
    "    avatarNameOrKey = \"三月七\"\n",
    "    AvatarSkill = starRailData.getAvatarSkillList(\n",
    "        avatarNameOrKey, levels=[6, 10, 10, 10], selectKeys=selectKeys\n",
    "    )\n",
    "    assert AvatarSkill == answer\n",
    "\n",
    "\n",
    "def test_getAvatarSkillListByName():\n",
    "    avatarNameOrKey = 1001\n",
    "    AvatarSkill = starRailData.getAvatarSkillList(\n",
    "        avatarNameOrKey, levels=[6, 10, 10, 10], selectKeys=selectKeys\n",
    "    )\n",
    "    assert AvatarSkill == answer"
   ]
  },
  {
   "cell_type": "code",
   "execution_count": 5,
   "metadata": {},
   "outputs": [],
   "source": [
    "test_getAvatarSkillListByName()"
   ]
  },
  {
   "cell_type": "code",
   "execution_count": null,
   "metadata": {},
   "outputs": [],
   "source": []
  }
 ],
 "metadata": {
  "kernelspec": {
   "display_name": "py38",
   "language": "python",
   "name": "python3"
  },
  "language_info": {
   "codemirror_mode": {
    "name": "ipython",
    "version": 3
   },
   "file_extension": ".py",
   "mimetype": "text/x-python",
   "name": "python",
   "nbconvert_exporter": "python",
   "pygments_lexer": "ipython3",
   "version": "3.8.16"
  },
  "orig_nbformat": 4
 },
 "nbformat": 4,
 "nbformat_minor": 2
}
