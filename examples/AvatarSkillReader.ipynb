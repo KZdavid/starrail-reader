{
 "cells": [
  {
   "cell_type": "code",
   "execution_count": 1,
   "metadata": {},
   "outputs": [
    {
     "data": {
      "text/plain": [
       "[{'SPBase': 19.999999686134988,\n",
       "  'SkillName': '黑渊的棘刺',\n",
       "  'SkillTag': '单攻',\n",
       "  'SkillDesc': '对指定敌方单体造成等同于罗刹100%攻击力的虚数属性伤害。',\n",
       "  'SkillTypeDesc': '普攻'},\n",
       " {'SPBase': 29.999999529202483,\n",
       "  'SkillName': '白花的祈望',\n",
       "  'SkillTag': '回复',\n",
       "  'SkillDesc': '施放战技后立即为指定我方单体回复等同于罗刹60%攻击力+800的生命值，并使罗刹获得1层【白花之刻】。\\\\n当我方任意单体当前生命值百分比小于等于50%时，罗刹会立即对其施放1次战技，此次施放不消耗战技点。该效果在罗刹2次行动后满足触发条件时可再次触发。',\n",
       "  'SkillTypeDesc': '战技'},\n",
       " {'SPBase': 4.999999921533747,\n",
       "  'SkillName': '归葬的遂愿',\n",
       "  'SkillTag': '群攻',\n",
       "  'SkillDesc': '解除敌方目标1个增益效果，并对敌方全体造成等同于罗刹160%攻击力的虚数属性伤害，同时使罗刹获得1层【白花之刻】。',\n",
       "  'SkillTypeDesc': '终结技'},\n",
       " {'SkillName': '生息的轮转',\n",
       "  'SkillTag': '回复',\n",
       "  'SkillDesc': '当【白花之刻】达到2层时，罗刹会消耗全部【白花之刻】对敌方展开结界。\\\\n处于结界中的任意敌方目标受到攻击后，施放攻击的我方目标立即回复等同于罗刹#2[f1]%攻击力+280的生命值。\\\\n结界效果持续2回合。',\n",
       "  'SkillTypeDesc': '天赋'},\n",
       " {'SkillName': '愚者的悲悯',\n",
       "  'SkillTag': '回复',\n",
       "  'SkillDesc': '使用秘技后，下一次战斗开始时立即触发天赋。',\n",
       "  'SkillTypeDesc': '秘技'}]"
      ]
     },
     "metadata": {},
     "output_type": "display_data"
    }
   ],
   "source": [
    "import os\n",
    "import sys\n",
    "sys.path.append(os.path.abspath('..'))\n",
    "from src.starraildatareader import create_star_rail_data\n",
    "\n",
    "path_to_StarRailData = os.path.abspath('../StarRailData/')\n",
    "\n",
    "avatarNameOrKey = '罗刹'\n",
    "# selectKeys = {\"SkillID\", \"SkillName\", \"SkillTag\", \"SkillTypeDesc\", \"Level\", \"MaxLevel\", \"SkillDesc\", \"SimpleSkillDesc\", \"RatedSkillTreeID\",\\\n",
    "#       \"RatedRankID\", \"ExtraEffectIDList\", \"SimpleExtraEffectIDList\", \"SPBase\", \"ParamList\", \"SimpleParamList\", \"StanceDamageType\",\\\n",
    "#       \"AttackType\", \"SkillEffect\", \"SkillComboValueDelta\"}\n",
    "# selectKeys = {\"SkillName\", \"SkillTag\", \"SkillTypeDesc\", \"Level\", \"MaxLevel\", \"SkillDesc\", \"SPBase\"}\n",
    "selectKeys = {\"SkillName\", \"SkillTag\", \"SkillTypeDesc\", \"SkillDesc\", \"SPBase\"}\n",
    "\n",
    "starRailData = create_star_rail_data(path_to_StarRailData)\n",
    "display(starRailData.generate_avatar_skill_list(avatarNameOrKey, levels=[6,10,10,10], select_keys=selectKeys))\n",
    "del avatarNameOrKey, selectKeys"
   ]
  }
 ],
 "metadata": {
  "kernelspec": {
   "display_name": "py38",
   "language": "python",
   "name": "python3"
  },
  "language_info": {
   "codemirror_mode": {
    "name": "ipython",
    "version": 3
   },
   "file_extension": ".py",
   "mimetype": "text/x-python",
   "name": "python",
   "nbconvert_exporter": "python",
   "pygments_lexer": "ipython3",
   "version": "3.8.16"
  },
  "orig_nbformat": 4
 },
 "nbformat": 4,
 "nbformat_minor": 2
}
