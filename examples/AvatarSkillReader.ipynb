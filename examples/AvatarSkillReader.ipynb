{
 "cells": [
  {
   "cell_type": "code",
   "execution_count": 1,
   "metadata": {},
   "outputs": [
    {
     "data": {
      "text/plain": [
       "[{'SkillTag': '单攻',\n",
       "  'SkillName': '极寒的弓矢',\n",
       "  'SPBase': 19.999999686134988,\n",
       "  'SkillTypeDesc': '普攻',\n",
       "  'SkillDesc': '对指定敌方单体造成等同于三月七100%攻击力的冰属性伤害。'},\n",
       " {'SkillTag': '防御',\n",
       "  'SkillName': '可爱即是正义',\n",
       "  'SPBase': 29.999999529202483,\n",
       "  'SkillTypeDesc': '战技',\n",
       "  'SkillDesc': '为指定我方单体提供能够抵消等同于三月七57%防御力+760伤害的护盾，持续3回合。\\\\n若该目标当前生命值百分比大于等于30%，被敌方攻击的概率大幅提高。'},\n",
       " {'SkillTag': '群攻',\n",
       "  'SkillName': '冰刻箭雨之时',\n",
       "  'SPBase': 4.999999921533747,\n",
       "  'SkillTypeDesc': '终结技',\n",
       "  'SkillDesc': '对敌方全体造成等同于三月七150%攻击力的冰属性伤害。受到攻击的敌方目标有50%基础概率陷入冻结状态，持续1回合。\\\\n冻结状态下，敌方目标不能行动同时每回合开始时受到等同于三月七60%攻击力的冰属性附加伤害。'},\n",
       " {'SkillTag': '单攻',\n",
       "  'SkillName': '少女的特权',\n",
       "  'SPBase': 9.999999843067494,\n",
       "  'SkillTypeDesc': '天赋',\n",
       "  'SkillDesc': '当持有护盾的我方目标受到敌方目标攻击后，三月七立即向攻击者发起反击，对其造成等同于三月七100%攻击力的冰属性伤害，该效果每回合可触发2次。'},\n",
       " {'SkillName': '冻人的瞬间',\n",
       "  'SkillTypeDesc': '秘技',\n",
       "  'SkillDesc': '立即攻击敌人，进入战斗后有100%的基础概率使随机敌方单体陷入冻结状态，持续1回合。\\\\n冻结状态下，敌方目标不能行动同时每回合开始时受到等同于三月七50%攻击力的冰属性附加伤害。'}]"
      ]
     },
     "metadata": {},
     "output_type": "display_data"
    }
   ],
   "source": [
    "import os\n",
    "import sys\n",
    "sys.path.append(os.path.abspath('..'))\n",
    "from src.starraildatareader import create_star_rail_data\n",
    "\n",
    "path_to_StarRailData = os.path.abspath('../../StarRailData/')\n",
    "\n",
    "avatarNameOrKey = '三月七'\n",
    "# selectKeys = {\"SkillID\", \"SkillName\", \"SkillTag\", \"SkillTypeDesc\", \"Level\", \"MaxLevel\", \"SkillDesc\", \"SimpleSkillDesc\", \"RatedSkillTreeID\",\\\n",
    "#       \"RatedRankID\", \"ExtraEffectIDList\", \"SimpleExtraEffectIDList\", \"SPBase\", \"ParamList\", \"SimpleParamList\", \"StanceDamageType\",\\\n",
    "#       \"AttackType\", \"SkillEffect\", \"SkillComboValueDelta\"}\n",
    "# selectKeys = {\"SkillName\", \"SkillTag\", \"SkillTypeDesc\", \"Level\", \"MaxLevel\", \"SkillDesc\", \"SPBase\"}\n",
    "selectKeys = {\"SkillName\", \"SkillTag\", \"SkillTypeDesc\", \"SkillDesc\", \"SPBase\"}\n",
    "\n",
    "starRailData = create_star_rail_data(path_to_StarRailData)\n",
    "display(starRailData.getAvatarSkillList(avatarNameOrKey, levels=[6,10,10,10], selectKeys=selectKeys))\n",
    "del avatarNameOrKey, selectKeys"
   ]
  }
 ],
 "metadata": {
  "kernelspec": {
   "display_name": "py38",
   "language": "python",
   "name": "python3"
  },
  "language_info": {
   "codemirror_mode": {
    "name": "ipython",
    "version": 3
   },
   "file_extension": ".py",
   "mimetype": "text/x-python",
   "name": "python",
   "nbconvert_exporter": "python",
   "pygments_lexer": "ipython3",
   "version": "3.8.16"
  },
  "orig_nbformat": 4
 },
 "nbformat": 4,
 "nbformat_minor": 2
}
